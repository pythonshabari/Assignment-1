{
  "nbformat": 4,
  "nbformat_minor": 0,
  "metadata": {
    "colab": {
      "name": "assignmentsnew.ipynb",
      "provenance": []
    },
    "kernelspec": {
      "name": "python3",
      "display_name": "Python 3"
    },
    "language_info": {
      "name": "python"
    }
  },
  "cells": [
    {
      "cell_type": "markdown",
      "source": [
        "1st assignment"
      ],
      "metadata": {
        "id": "7Iq8F_jWo_Jg"
      }
    },
    {
      "cell_type": "code",
      "source": [
        "#Change all the characters to uppercase letters\n",
        "#Example: Input -> 'This is the Way' | Output -> 'THIS IS THE WAY'\n",
        "\n",
        "#Write your code below this comment\n",
        "challenge='This is the way'\n",
        "print(challenge.upper())"
      ],
      "metadata": {
        "colab": {
          "base_uri": "https://localhost:8080/"
        },
        "id": "YU66T_0ppBRa",
        "outputId": "74c7b920-dee9-4330-dec9-29d03a9f7c39"
      },
      "execution_count": null,
      "outputs": [
        {
          "output_type": "stream",
          "name": "stdout",
          "text": [
            "THIS IS THE WAY\n"
          ]
        }
      ]
    },
    {
      "cell_type": "code",
      "source": [
        "#Change all the characters to uppercase letters\n",
        "#Example: Input -> 'This is the Way' | Output -> 'this is the way'\n",
        "\n",
        "#Write your code below this comment\n",
        "challenge='This is the way'\n",
        "print(challenge.lower())"
      ],
      "metadata": {
        "colab": {
          "base_uri": "https://localhost:8080/"
        },
        "id": "dsxSlW_8pFuA",
        "outputId": "3515cc5f-04b4-4156-c766-aee489ec41bf"
      },
      "execution_count": null,
      "outputs": [
        {
          "output_type": "stream",
          "name": "stdout",
          "text": [
            "this is the way\n"
          ]
        }
      ]
    },
    {
      "cell_type": "code",
      "source": [
        "#Print the first of the sentence 'Python for All'\n",
        "\n",
        "#Write your code below this comment\n",
        "challenge='Python for ALL'\n",
        "print(challenge.split()[0])"
      ],
      "metadata": {
        "colab": {
          "base_uri": "https://localhost:8080/"
        },
        "id": "09HsBO2mpK8c",
        "outputId": "ea0dfb04-f8ae-46ca-ad1d-328c8958127e"
      },
      "execution_count": null,
      "outputs": [
        {
          "output_type": "stream",
          "name": "stdout",
          "text": [
            "Python\n"
          ]
        }
      ]
    },
    {
      "cell_type": "code",
      "source": [
        "#Check if 'Python For All' string contains a word 'Python' using the suitable string method\n",
        "\n",
        "#Write your code below this comment\n",
        "challenge='Python For ALL'\n",
        "print(challenge.startswith('Python'))"
      ],
      "metadata": {
        "colab": {
          "base_uri": "https://localhost:8080/"
        },
        "id": "xbnTqtgFpOHy",
        "outputId": "6bc8e592-140c-44d3-9754-156994bf0e79"
      },
      "execution_count": null,
      "outputs": [
        {
          "output_type": "stream",
          "name": "stdout",
          "text": [
            "True\n"
          ]
        }
      ]
    },
    {
      "cell_type": "code",
      "source": [
        "#Change the sentence 'Coding is fun' to 'Python is fun'\n",
        "\n",
        "#Write your code below this comment\n",
        "challenge='Coding is fun'\n",
        "print(challenge.replace('Coding','Python'))"
      ],
      "metadata": {
        "colab": {
          "base_uri": "https://localhost:8080/"
        },
        "id": "YSirYKEcpSvG",
        "outputId": "bb65ac35-1021-485e-bab6-0b387a58cecd"
      },
      "execution_count": null,
      "outputs": [
        {
          "output_type": "stream",
          "name": "stdout",
          "text": [
            "Python is fun\n"
          ]
        }
      ]
    },
    {
      "cell_type": "code",
      "source": [
        "#What is the last index of the string 'Python For All'\n",
        "\n",
        "#Write your code below this comment\n",
        "challenge='Python For ALL'\n",
        "print(challenge.rfind('L'))"
      ],
      "metadata": {
        "colab": {
          "base_uri": "https://localhost:8080/"
        },
        "id": "3Lq8AeVppU65",
        "outputId": "d0544573-8193-4898-9e76-b04534df03e3"
      },
      "execution_count": null,
      "outputs": [
        {
          "output_type": "stream",
          "name": "stdout",
          "text": [
            "13\n"
          ]
        }
      ]
    },
    {
      "cell_type": "code",
      "source": [
        "#First and last occurance index value of letter 'o' in the string 'Python for everyone'\n",
        "\n",
        "#Write your code below this comment\n",
        "challenge='Python for everyone'\n",
        "print(challenge.index('o'))\n",
        "print(challenge.rindex('o'))"
      ],
      "metadata": {
        "colab": {
          "base_uri": "https://localhost:8080/"
        },
        "id": "JG2Gq1ZCpXPh",
        "outputId": "600d8326-c2d4-47f1-ee41-94a22c2be8d2"
      },
      "execution_count": null,
      "outputs": [
        {
          "output_type": "stream",
          "name": "stdout",
          "text": [
            "4\n",
            "16\n"
          ]
        }
      ]
    },
    {
      "cell_type": "code",
      "source": [
        "#Find first and last occurance of the word 'because' in the sentence 'You cannot end a sentence with because because because is a conjunction'\n",
        "\n",
        "#Write your code below this comment\n",
        "challenge='You cannot end a sentence with because because because is a conjunction'\n",
        "print(challenge.find('because'))\n",
        "print(challenge.rfind('because'))"
      ],
      "metadata": {
        "id": "wm5dwB0kpZrh",
        "colab": {
          "base_uri": "https://localhost:8080/"
        },
        "outputId": "5f1af7ef-9ec0-4d81-9e32-a6adf272ce6d"
      },
      "execution_count": null,
      "outputs": [
        {
          "output_type": "stream",
          "name": "stdout",
          "text": [
            "31\n",
            "47\n"
          ]
        }
      ]
    },
    {
      "cell_type": "code",
      "source": [
        "#' This is the way '  , remove the left and right trailing spaces in the given string.\n",
        "#Output -> 'This is the way'\n",
        "\n",
        "#Write your code below this comment\n",
        "challenge=' This is the way '\n",
        "print(len(challenge))\n",
        "print(len(challenge.strip(' ')))"
      ],
      "metadata": {
        "colab": {
          "base_uri": "https://localhost:8080/"
        },
        "id": "5V-wLGlhpeBm",
        "outputId": "73c9f7d3-544b-49bf-ef24-b32f0b7f7b6e"
      },
      "execution_count": null,
      "outputs": [
        {
          "output_type": "stream",
          "name": "stdout",
          "text": [
            "17\n",
            "15\n"
          ]
        }
      ]
    },
    {
      "cell_type": "code",
      "source": [
        "#Take required inputs from the user and find the area of a right circular cone\n",
        "#Example Output -> 'The area of a cone with radius 10 and height 20 is 1016 meters square.'\n",
        "\n",
        "#Write your code below this comment\n",
        "r=int(input('enter the radius of cone'))\n",
        "h=int(input('enter the height of cone'))\n",
        "area=3.14*r*((r+(h**2+r**2)**0.5))\n",
        "print('The area of a cone with radius {} and height {} is {} meters square'.format(r,h,int(area)))"
      ],
      "metadata": {
        "colab": {
          "base_uri": "https://localhost:8080/"
        },
        "id": "aHyNYt6upn34",
        "outputId": "84d5aa62-91eb-4176-cc92-161b3f92a2a1"
      },
      "execution_count": null,
      "outputs": [
        {
          "output_type": "stream",
          "name": "stdout",
          "text": [
            "enter the radius of cone10\n",
            "enter the height of cone20\n",
            "The area of a cone with radius 10 and height 20 is 1016 meters square\n"
          ]
        }
      ]
    },
    {
      "cell_type": "code",
      "source": [
        "#Make the following using string formatting methods\n",
        "#Take two numbers as input from user and print all the below mentioned operations \n",
        "#Outputs for 8 and 6 as inputs\n",
        "'''\n",
        "8 + 6 = 14\n",
        "8 - 6 = 2\n",
        "8 * 6 = 48\n",
        "8 / 6 = 1.33\n",
        "8 % 6 = 2\n",
        "8 // 6 = 1\n",
        "8 ** 6 = 262144\n",
        "'''\n",
        "\n",
        "#Write your code below this comment\n",
        "a=int(input('enter the values of a'))\n",
        "b=int(input('enter the values of b'))\n",
        "add='{}+{}={}'\n",
        "print(add.format(a,b,a+b))\n",
        "sub='{}-{}={}'\n",
        "print(sub.format(a,b,a-b))\n",
        "mul='{}*{}={}'\n",
        "print(mul.format(a,b,a*b))\n",
        "div='{}/{}={:.2f}'\n",
        "print(div.format(a,b,a/b))\n",
        "mod='{}%{}={}'\n",
        "print(mod.format(a,b,a%b))\n",
        "dev='{}//{}={}'\n",
        "print(dev.format(a,b,a//b))\n",
        "power='{}**{}={}'\n",
        "print(power.format(a,b,a**b))\n"
      ],
      "metadata": {
        "colab": {
          "base_uri": "https://localhost:8080/"
        },
        "id": "p-o8GWy6prsv",
        "outputId": "60eccabb-949b-4901-db0b-930f6c79a3fb"
      },
      "execution_count": null,
      "outputs": [
        {
          "output_type": "stream",
          "name": "stdout",
          "text": [
            "enter the values of a8\n",
            "enter the values of b6\n",
            "8+6=14\n",
            "8-6=2\n",
            "8*6=48\n",
            "8/6=1.33\n",
            "8%6=2\n",
            "8//6=1\n",
            "8**6=262144\n"
          ]
        }
      ]
    },
    {
      "cell_type": "code",
      "source": [
        ""
      ],
      "metadata": {
        "id": "JciVM-kBUAS8"
      },
      "execution_count": null,
      "outputs": []
    }
  ]
}